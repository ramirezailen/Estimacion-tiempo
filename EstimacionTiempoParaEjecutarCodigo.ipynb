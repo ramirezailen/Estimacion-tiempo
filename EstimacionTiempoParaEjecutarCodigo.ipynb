{
 "cells": [
  {
   "cell_type": "code",
   "execution_count": 2,
   "id": "4ad0409e",
   "metadata": {},
   "outputs": [
    {
     "name": "stdout",
     "output_type": "stream",
     "text": [
      "0.5011420249938965\n"
     ]
    }
   ],
   "source": [
    "import time \n",
    "\n",
    "start = time.time()\n",
    "\n",
    "# Nuestro codigo\n",
    "time.sleep (0.5)\n",
    "end = time.time ()\n",
    "\n",
    "print (end - start)\n"
   ]
  },
  {
   "cell_type": "code",
   "execution_count": 6,
   "id": "23733374",
   "metadata": {},
   "outputs": [
    {
     "name": "stdout",
     "output_type": "stream",
     "text": [
      "0:00:01.000648\n"
     ]
    }
   ],
   "source": [
    "from datetime import timedelta\n",
    "\n",
    "start = time.monotonic ()\n",
    "\n",
    "# Nuestro codigo\n",
    "time.sleep(1)\n",
    "\n",
    "end = time.monotonic()\n",
    "\n",
    "print (timedelta(seconds = end -start))\n"
   ]
  },
  {
   "cell_type": "code",
   "execution_count": 8,
   "id": "24eca412",
   "metadata": {},
   "outputs": [
    {
     "name": "stdout",
     "output_type": "stream",
     "text": [
      "False\n"
     ]
    }
   ],
   "source": [
    "\n",
    "start = time.time()\n",
    "\n",
    "# Nuestro codigo\n",
    "time.sleep (0.5)\n",
    "end = time.time ()\n",
    "\n",
    "\n",
    "\n",
    "\n",
    "\n",
    "start2 = time.time()\n",
    "\n",
    "# Nuestro codigo\n",
    "time.sleep (0.501)\n",
    "end2 = time.time ()\n",
    "\n",
    "print (end - start > end2 -start2)"
   ]
  },
  {
   "cell_type": "code",
   "execution_count": null,
   "id": "70723c76",
   "metadata": {},
   "outputs": [],
   "source": []
  }
 ],
 "metadata": {
  "kernelspec": {
   "display_name": "Python 3",
   "language": "python",
   "name": "python3"
  },
  "language_info": {
   "codemirror_mode": {
    "name": "ipython",
    "version": 3
   },
   "file_extension": ".py",
   "mimetype": "text/x-python",
   "name": "python",
   "nbconvert_exporter": "python",
   "pygments_lexer": "ipython3",
   "version": "3.8.8"
  }
 },
 "nbformat": 4,
 "nbformat_minor": 5
}
